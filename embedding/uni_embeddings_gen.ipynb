{
 "cells": [
  {
   "cell_type": "code",
   "execution_count": null,
   "metadata": {},
   "outputs": [
    {
     "name": "stderr",
     "output_type": "stream",
     "text": [
      "2024-12-31 10:36:21 | unimol_tools\\weights\\weighthub.py | 17 | INFO | Uni-Mol Tools | Weights will be downloaded to default directory: c:\\Users\\tianren\\Anaconda3\\lib\\site-packages\\unimol_tools\\weights\n"
     ]
    }
   ],
   "source": [
    "####create \n",
    "import pandas as pd\n",
    "import numpy as np\n",
    "from transformers import LlamaForCausalLM, LlamaTokenizer\n",
    "from transformers import AutoModel, AutoTokenizer  \n",
    "from huggingface_hub import login\n",
    "import torch\n",
    "from transformers import AutoTokenizer, AutoModelForCausalLM\n",
    "from transformers import BitsAndBytesConfig\n",
    "import json\n",
    "from unimol_tools import UniMolRepr"
   ]
  },
  {
   "cell_type": "code",
   "execution_count": null,
   "metadata": {},
   "outputs": [],
   "source": [
    "def transform_polymer_json(input_data):\n",
    "    \"\"\"Transform the JSON structure to use polymer IDs as keys.\"\"\"\n",
    "    transformed_data = {}\n",
    "    \n",
    "    # Iterate through polymers and restructure\n",
    "    for polymer in input_data[\"polymers\"]:\n",
    "        polymer_id = polymer[\"id\"]\n",
    "        # Create new structure without the id field since it's now the key\n",
    "        transformed_data[polymer_id] = {\n",
    "           # \"name\": polymer[\"name\"],\n",
    "            \"description\": polymer[\"description\"],\n",
    "            \"metadata\": polymer[\"metadata\"]\n",
    "        }\n",
    "    \n",
    "    return transformed_data\n",
    "\n",
    "with open(f\"polymer_descriptions.json\", 'r') as file:\n",
    "    polymer_language = json.load(file)\n",
    "transformed_polymer_language = transform_polymer_json(polymer_language)\n",
    "\n"
   ]
  },
  {
   "cell_type": "code",
   "execution_count": null,
   "metadata": {},
   "outputs": [],
   "source": [
    "from psmiles import PolymerSmiles as PS\n",
    "from rdkit import Chem\n",
    "failed_conformers=0\n",
    "polymer_conf_embedding_text = {}\n",
    "unimol_model = UniMolRepr(\n",
    "               data_type='molecule',\n",
    "               remove_hs=False,\n",
    "               model_name='unimolv2',\n",
    "               model_size='1.1B'\n",
    "            )\n",
    "\n",
    "for key, text in sorted(transformed_polymer_language.items()):\n",
    "\n",
    "    ps = PS(text['metadata']['polymer_smiles'])\n",
    "    #dimer_smiles = ps.dimer(1)\n",
    "\n",
    "    dimer_mol = Chem.MolFromSmiles(ps.psmiles)\n",
    "    for atom in dimer_mol.GetAtoms():\n",
    "        if atom.GetSymbol() == '*':\n",
    "            atom.SetAtomicNum(6)  # Convert to carbon\n",
    "    smiles =  Chem.MolToSmiles(dimer_mol)        \n",
    "    print(smiles)\n",
    "    unimol_repr = unimol_model.get_repr([smiles], return_atomic_reprs=True)\n",
    "    if unimol_repr['cls_repr'][0] is None:\n",
    "        print(f\"Warning: Failed to generate valid conformer for {item['id']}\")\n",
    "        failed_conformers += 1\n",
    "    conf_embed = np.array(unimol_repr['cls_repr'][0])\n",
    "    polymer_conf_embedding_text[key] = conf_embed\n",
    "    "
   ]
  },
  {
   "cell_type": "code",
   "execution_count": 9,
   "metadata": {},
   "outputs": [],
   "source": [
    "import pickle\n",
    "with open(f\"uni_polymer_embeddings.pickle\", \"wb\") as fp:\n",
    "    pickle.dump(polymer_conf_embedding_text, fp)"
   ]
  },
  {
   "cell_type": "code",
   "execution_count": null,
   "metadata": {},
   "outputs": [],
   "source": []
  }
 ],
 "metadata": {
  "kernelspec": {
   "display_name": "base",
   "language": "python",
   "name": "python3"
  },
  "language_info": {
   "codemirror_mode": {
    "name": "ipython",
    "version": 3
   },
   "file_extension": ".py",
   "mimetype": "text/x-python",
   "name": "python",
   "nbconvert_exporter": "python",
   "pygments_lexer": "ipython3",
   "version": "3.9.13"
  }
 },
 "nbformat": 4,
 "nbformat_minor": 2
}
