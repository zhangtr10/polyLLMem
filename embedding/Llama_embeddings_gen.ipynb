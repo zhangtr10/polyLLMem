{
 "cells": [
  {
   "cell_type": "code",
   "execution_count": 1,
   "id": "a21dab94",
   "metadata": {},
   "outputs": [
    {
     "name": "stderr",
     "output_type": "stream",
     "text": [
      "2025-01-30 16:47:23 | unimol_tools\\weights\\weighthub.py | 17 | INFO | Uni-Mol Tools | Weights will be downloaded to default directory: c:\\Users\\tianren\\Anaconda3\\lib\\site-packages\\unimol_tools\\weights\n"
     ]
    },
    {
     "data": {
      "text/plain": [
       "device(type='cuda')"
      ]
     },
     "execution_count": 1,
     "metadata": {},
     "output_type": "execute_result"
    }
   ],
   "source": [
    "import pandas as pd\n",
    "import numpy as np\n",
    "from transformers import LlamaForCausalLM, LlamaTokenizer\n",
    "from transformers import AutoModel, AutoTokenizer  \n",
    "from huggingface_hub import login\n",
    "import torch\n",
    "from transformers import AutoTokenizer, AutoModelForCausalLM\n",
    "from transformers import BitsAndBytesConfig\n",
    "import json\n",
    "from unimol_tools import UniMolRepr\n",
    "torch.device('cuda' if torch.cuda.is_available() else 'cpu')"
   ]
  },
  {
   "cell_type": "code",
   "execution_count": null,
   "id": "7da334b1",
   "metadata": {},
   "outputs": [
    {
     "data": {
      "application/vnd.jupyter.widget-view+json": {
       "model_id": "cb63eb12a20247498892b56ae32fd61a",
       "version_major": 2,
       "version_minor": 0
      },
      "text/plain": [
       "Loading checkpoint shards:   0%|          | 0/4 [00:00<?, ?it/s]"
      ]
     },
     "metadata": {},
     "output_type": "display_data"
    },
    {
     "name": "stderr",
     "output_type": "stream",
     "text": [
      "Some parameters are on the meta device because they were offloaded to the cpu.\n"
     ]
    }
   ],
   "source": [
    "login(token = \"XXXXXXXXXXXX\")\n",
    "model_id = \"meta-llama/Meta-Llama-3-8B\"\n",
    "\n",
    "tokenizer = AutoTokenizer.from_pretrained(model_id)\n",
    "\n",
    "model = AutoModel.from_pretrained(model_id, device_map=\"auto\")\n",
    "\n"
   ]
  },
  {
   "cell_type": "code",
   "execution_count": null,
   "id": "38c87846",
   "metadata": {},
   "outputs": [],
   "source": [
    "with open(f\"polymer_descriptions.json\", 'r') as file:\n",
    "    polymer_language = json.load(file)"
   ]
  },
  {
   "cell_type": "code",
   "execution_count": 4,
   "id": "d4b3396b",
   "metadata": {},
   "outputs": [],
   "source": [
    "def get_Llama_embedding(tokenizer,model, text):\n",
    "    device = torch.device('cuda' if torch.cuda.is_available() else 'cpu')\n",
    "    inputs = tokenizer(text, return_tensors=\"pt\")\n",
    "    inputs = {k: v.to(device) for k, v in inputs.items()}\n",
    "    with torch.no_grad():     \n",
    "        outputs = model(**inputs) \n",
    "        embeddings = outputs.last_hidden_state.mean(dim=1)  # Pooling for sentence embeddings\n",
    "    return embeddings.squeeze()\n",
    "    "
   ]
  },
  {
   "cell_type": "code",
   "execution_count": 5,
   "id": "17449bab",
   "metadata": {},
   "outputs": [],
   "source": [
    "def transform_polymer_json(input_data):\n",
    "    \"\"\"Transform the JSON structure to use polymer IDs as keys.\"\"\"\n",
    "    transformed_data = {}\n",
    "    \n",
    "    # Iterate through polymers and restructure\n",
    "    for polymer in input_data[\"polymers\"]:\n",
    "        polymer_id = polymer[\"id\"]\n",
    "        # Create new structure without the id field since it's now the key\n",
    "        transformed_data[polymer_id] = {\n",
    "            \"name\": polymer[\"name\"],\n",
    "            \"description\": polymer[\"description\"],\n",
    "            \"metadata\": polymer[\"metadata\"]\n",
    "        }\n",
    "    \n",
    "    return transformed_data\n",
    "\n",
    "transformed_polymer_language = transform_polymer_json(polymer_language)"
   ]
  },
  {
   "cell_type": "code",
   "execution_count": 6,
   "id": "ee358d0e",
   "metadata": {},
   "outputs": [
    {
     "name": "stderr",
     "output_type": "stream",
     "text": [
      "Processing polymer P522021 (4379/4379): 100%|██████████| 4379/4379 [4:22:15<00:00,  3.59s/it]  \n"
     ]
    }
   ],
   "source": [
    "from tqdm import tqdm\n",
    "import numpy as np\n",
    "device = torch.device('cuda' if torch.cuda.is_available() else 'cpu')\n",
    "\n",
    "polymer_language_embedding_text = {}\n",
    "GPT_DIM = 4096\n",
    "\n",
    "# Get total count for progress bar\n",
    "total_items = len(transformed_polymer_language.items())\n",
    "processed = 0\n",
    "\n",
    "# Create progress bar with additional stats\n",
    "pbar = tqdm(total=total_items, \n",
    "            desc=\"Processing polymers\",\n",
    "            bar_format='{l_bar}{bar}| {n_fmt}/{total_fmt} [{elapsed}<{remaining}, {rate_fmt}]')\n",
    "\n",
    "for key, text in sorted(transformed_polymer_language.items()):\n",
    "    if key not in polymer_language_embedding_text:\n",
    "        processed += 1\n",
    "        pbar.set_description(f\"Processing polymer {key} ({processed}/{total_items})\")\n",
    "        \n",
    "        if transformed_polymer_language[key] == '':\n",
    "            polymer_language_embedding_text[key] = np.zeros(GPT_DIM)\n",
    "        else:\n",
    "            polymer_language_embedding_text[key] = get_Llama_embedding(tokenizer, model, text['description'])\n",
    "        \n",
    "        pbar.update(1)\n",
    "\n",
    "pbar.close()"
   ]
  },
  {
   "cell_type": "code",
   "execution_count": 8,
   "id": "10f7a510",
   "metadata": {},
   "outputs": [],
   "source": [
    "import pickle\n",
    "with open(f\"Llama_polymer_embeddings_v3_smile.pickle\", \"wb\") as fp:\n",
    "    pickle.dump(polymer_language_embedding_text, fp)"
   ]
  }
 ],
 "metadata": {
  "kernelspec": {
   "display_name": "base",
   "language": "python",
   "name": "python3"
  },
  "language_info": {
   "codemirror_mode": {
    "name": "ipython",
    "version": 3
   },
   "file_extension": ".py",
   "mimetype": "text/x-python",
   "name": "python",
   "nbconvert_exporter": "python",
   "pygments_lexer": "ipython3",
   "version": "3.9.13"
  }
 },
 "nbformat": 4,
 "nbformat_minor": 5
}
